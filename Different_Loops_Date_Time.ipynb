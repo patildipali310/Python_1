{
 "cells": [
  {
   "cell_type": "markdown",
   "id": "201cc0c5",
   "metadata": {},
   "source": [
    "# if_else Loop"
   ]
  },
  {
   "cell_type": "code",
   "execution_count": 1,
   "id": "29d28405",
   "metadata": {},
   "outputs": [
    {
     "name": "stdout",
     "output_type": "stream",
     "text": [
      "Number ?2\n",
      "abs value of n is: 2.0\n",
      "110\n"
     ]
    }
   ],
   "source": [
    "n= float(input('Number ?'))\n",
    "if n>0:\n",
    "    print(\"abs value of n is:\", n)\n",
    "else:\n",
    "    print(\"abs value of n is:\", -n)\n",
    "sumofnum=50+60\n",
    "print(sumofnum)"
   ]
  },
  {
   "cell_type": "code",
   "execution_count": 4,
   "id": "a9817d51",
   "metadata": {},
   "outputs": [
    {
     "name": "stdout",
     "output_type": "stream",
     "text": [
      "Enter the number: 5\n",
      "* \n",
      "* * \n",
      "* * * \n",
      "* * * * \n",
      "* * * * * \n"
     ]
    }
   ],
   "source": [
    "n = eval(input(\"Enter the number: \"))\n",
    "\n",
    "for i in range (0,n):\n",
    "    for j in range (0,i+1):\n",
    "        print(\"*\", end=\" \")\n",
    "    print()"
   ]
  },
  {
   "cell_type": "code",
   "execution_count": 23,
   "id": "c76af982",
   "metadata": {},
   "outputs": [
    {
     "name": "stdout",
     "output_type": "stream",
     "text": [
      "5\n",
      "    * \n",
      "   * * \n",
      "  * * * \n",
      " * * * * \n",
      "* * * * * \n"
     ]
    }
   ],
   "source": [
    "n= eval(input())\n",
    "#k = n-1\n",
    "for i in range (0,n):\n",
    "    for j in range (0,n-1):\n",
    "        print(end = \" \")\n",
    "    n=n-1\n",
    "    for j in range(0,i+1):\n",
    "        print(\"*\", end=\" \")\n",
    "    print()"
   ]
  },
  {
   "cell_type": "code",
   "execution_count": 17,
   "id": "586941dc",
   "metadata": {},
   "outputs": [
    {
     "name": "stdout",
     "output_type": "stream",
     "text": [
      "    * \n",
      "   * * \n",
      "  * * * \n",
      " * * * * \n",
      "* * * * * \n"
     ]
    }
   ],
   "source": [
    "def triangle(n):\n",
    "\t\n",
    "\t# number of spaces\n",
    "\tk = n - 1\n",
    "\n",
    "\t# outer loop to handle number of rows\n",
    "\tfor i in range(0, n):\n",
    "\t\n",
    "\t\t# inner loop to handle number spaces\n",
    "\t\t# values changing acc. to requirement\n",
    "\t\tfor j in range(0, k):\n",
    "\t\t\tprint(end=\" \")\n",
    "\t\n",
    "\t\t# decrementing k after each loop\n",
    "\t\tk = k - 1\n",
    "\t\n",
    "\t\t# inner loop to handle number of columns\n",
    "\t\t# values changing acc. to outer loop\n",
    "\t\tfor j in range(0, i+1):\n",
    "\t\t\n",
    "\t\t\t# printing stars\n",
    "\t\t\tprint(\"* \", end=\"\")\n",
    "\t\n",
    "\t\t# ending line after each row\n",
    "\t\tprint()\n",
    "\n",
    "# Driver Code\n",
    "n = 5\n",
    "triangle(n)"
   ]
  },
  {
   "cell_type": "code",
   "execution_count": 24,
   "id": "26d32fea",
   "metadata": {},
   "outputs": [
    {
     "name": "stdout",
     "output_type": "stream",
     "text": [
      "1 1 1 1 1 1 1 1 1 1 \n",
      "2 2 2 2 2 2 2 2 2 \n",
      "3 3 3 3 3 3 3 3 \n",
      "4 4 4 4 4 4 4 \n",
      "5 5 5 5 5 5 \n",
      "6 6 6 6 6 \n",
      "7 7 7 7 \n",
      "8 8 8 \n",
      "9 9 \n",
      "10 \n"
     ]
    }
   ],
   "source": [
    "#NUMBER PATTERN\n",
    "rows = 10\n",
    "b = 0\n",
    "for i in range(rows,0,-1):\n",
    "  # print(i)\n",
    "    b += 1\n",
    "    for j in range(1, i + 1):\n",
    "        print(b, end= \" \")\n",
    "    print()"
   ]
  },
  {
   "cell_type": "code",
   "execution_count": 2,
   "id": "f4738461",
   "metadata": {},
   "outputs": [
    {
     "name": "stdout",
     "output_type": "stream",
     "text": [
      "valid animal\n",
      "name entered is animal\n",
      "The name entered is not valid\n"
     ]
    }
   ],
   "source": [
    "name='animal'\n",
    "animal_name='dog'\n",
    "if name=='animal':\n",
    "    if animal_name=='dog':\n",
    "        print('valid animal')\n",
    "        print('name entered is animal')\n",
    "    else:\n",
    "        print('i have given up')\n",
    "        print('abc')\n",
    "print('The name entered is not valid')"
   ]
  },
  {
   "cell_type": "markdown",
   "id": "23a8e273",
   "metadata": {},
   "source": [
    "# While Loop"
   ]
  },
  {
   "cell_type": "code",
   "execution_count": 3,
   "id": "d5fb0be3",
   "metadata": {},
   "outputs": [
    {
     "name": "stdout",
     "output_type": "stream",
     "text": [
      "0 first print\n",
      "1 first print\n",
      "2 first print\n",
      "3 first print\n",
      "4 first print\n"
     ]
    }
   ],
   "source": [
    "a=0\n",
    "while a<5:\n",
    "    print(a, 'first print')\n",
    "    a=a+1\n",
    "    #print(a,'second print')"
   ]
  },
  {
   "cell_type": "code",
   "execution_count": null,
   "id": "03a4b3bb",
   "metadata": {},
   "outputs": [],
   "source": [
    "a=1\n",
    "s=0  # enter 0 to quit\n",
    "x=0\n",
    "while a!=0:\n",
    "    print(\"current Sum: \", s)\n",
    "    a= float(input(\"Enter a No.:\"))\n",
    "    s=s+a\n",
    "print(\"Total sum:\",s)"
   ]
  },
  {
   "cell_type": "code",
   "execution_count": null,
   "id": "181ef727",
   "metadata": {},
   "outputs": [],
   "source": [
    "a=1\n",
    "s=0 # enter 100 to quit\n",
    "x=0\n",
    "while a!=0 and s<=100:\n",
    "    print(\"current Sum: \", s)\n",
    "    a= float(input(\"Enter a No.:\"))\n",
    "    s=s+a\n",
    "print(\"Total sum:\",s)"
   ]
  },
  {
   "cell_type": "code",
   "execution_count": null,
   "id": "7ffd6ec6",
   "metadata": {},
   "outputs": [],
   "source": [
    "a=1\n",
    "s=0\n",
    "#x=0\n",
    "print('Enter Number to add to sum')\n",
    "print('Enter 0 to Quit')\n",
    "while a!=0:\n",
    "    print('current sum:', s)\n",
    "    a= float(input(\"Enter number?:\"))\n",
    "    s=s+a\n",
    "    if s>=100:\n",
    "        a=0\n",
    "print('Total sum:', s)"
   ]
  },
  {
   "cell_type": "markdown",
   "id": "be96898c",
   "metadata": {},
   "source": [
    "# For Loop"
   ]
  },
  {
   "cell_type": "code",
   "execution_count": 4,
   "id": "df1f02b8",
   "metadata": {},
   "outputs": [
    {
     "name": "stdout",
     "output_type": "stream",
     "text": [
      "1\n",
      "2\n",
      "3\n",
      "4\n",
      "5\n",
      "6\n",
      "7\n",
      "8\n",
      "9\n",
      "10\n"
     ]
    }
   ],
   "source": [
    "for i in range(1,11):\n",
    "    print(i)"
   ]
  },
  {
   "cell_type": "code",
   "execution_count": 6,
   "id": "68d7532b",
   "metadata": {},
   "outputs": [
    {
     "name": "stdout",
     "output_type": "stream",
     "text": [
      "1\n",
      "3\n",
      "5\n",
      "7\n",
      "9\n"
     ]
    }
   ],
   "source": [
    "for i in range(1,10,2):\n",
    "    print(i)"
   ]
  },
  {
   "cell_type": "code",
   "execution_count": 10,
   "id": "60d848c7",
   "metadata": {},
   "outputs": [
    {
     "name": "stdout",
     "output_type": "stream",
     "text": [
      "[2, 3, 4, 5, 6, 7, 8]\n"
     ]
    }
   ],
   "source": [
    "list1= [ 0,1,2,3,4,5,6]\n",
    "#for a in list1:\n",
    "#    print(a)\n",
    "for index in range(0, len(list1)):\n",
    "    list1[index] = list1[index] + 2\n",
    "print(list1)"
   ]
  },
  {
   "cell_type": "code",
   "execution_count": 11,
   "id": "f75ca4fd",
   "metadata": {},
   "outputs": [
    {
     "name": "stdout",
     "output_type": "stream",
     "text": [
      "Apple\n",
      "Banana\n",
      "HELLOW\n"
     ]
    }
   ],
   "source": [
    "list1=['Apple','Banana','Dog']\n",
    "for item in list1:\n",
    "    if (item=='Dog'):\n",
    "        print(\"HELLOW\")\n",
    "    else:\n",
    "        print(item)"
   ]
  },
  {
   "cell_type": "code",
   "execution_count": 13,
   "id": "d13605ab",
   "metadata": {},
   "outputs": [
    {
     "name": "stdout",
     "output_type": "stream",
     "text": [
      "45\n"
     ]
    }
   ],
   "source": [
    "sum=0\n",
    "for num in range(0,10):\n",
    "    sum=sum+ num\n",
    "print(sum)"
   ]
  },
  {
   "cell_type": "markdown",
   "id": "c5da7d7a",
   "metadata": {},
   "source": [
    "# List_Comprehension"
   ]
  },
  {
   "cell_type": "code",
   "execution_count": 18,
   "id": "7f255bce",
   "metadata": {},
   "outputs": [],
   "source": [
    "example = 'notseperatedstring'"
   ]
  },
  {
   "cell_type": "code",
   "execution_count": 20,
   "id": "795fdc99",
   "metadata": {},
   "outputs": [
    {
     "name": "stdout",
     "output_type": "stream",
     "text": [
      "['n', 'o', 't', 's', 'e', 'p', 'e', 'r', 'a', 't', 'e', 'd', 's', 't', 'r', 'i', 'n', 'g']\n"
     ]
    }
   ],
   "source": [
    "list1=[]\n",
    "for char in example:\n",
    "    list1.append(char)\n",
    "print([char for char in example])"
   ]
  },
  {
   "cell_type": "code",
   "execution_count": 21,
   "id": "052f67f4",
   "metadata": {},
   "outputs": [],
   "source": [
    "int_list = [1,3,12,3,8,6,1]"
   ]
  },
  {
   "cell_type": "code",
   "execution_count": 22,
   "id": "3907236b",
   "metadata": {},
   "outputs": [
    {
     "data": {
      "text/plain": [
       "[12, 8, 6]"
      ]
     },
     "execution_count": 22,
     "metadata": {},
     "output_type": "execute_result"
    }
   ],
   "source": [
    "[integer for integer in int_list if integer%2 ==0]"
   ]
  },
  {
   "cell_type": "code",
   "execution_count": 24,
   "id": "70b2c770",
   "metadata": {},
   "outputs": [
    {
     "data": {
      "text/plain": [
       "['odd', 'odd', 'Even', 'odd', 'Even', 'Even', 'odd']"
      ]
     },
     "execution_count": 24,
     "metadata": {},
     "output_type": "execute_result"
    }
   ],
   "source": [
    "[\"Even\" if integer%2==0 else \"odd\" for integer in int_list] #List comprehension"
   ]
  },
  {
   "cell_type": "code",
   "execution_count": 27,
   "id": "51113e14",
   "metadata": {},
   "outputs": [],
   "source": [
    "def abc(name):\n",
    "    print(\"123\", name)"
   ]
  },
  {
   "cell_type": "code",
   "execution_count": 28,
   "id": "6f3dc905",
   "metadata": {},
   "outputs": [
    {
     "name": "stdout",
     "output_type": "stream",
     "text": [
      "123 kiran\n"
     ]
    }
   ],
   "source": [
    "abc('kiran')"
   ]
  },
  {
   "cell_type": "code",
   "execution_count": 29,
   "id": "0016714e",
   "metadata": {},
   "outputs": [],
   "source": [
    "def student_Score(name,score):\n",
    "    print(name, \"Scored\", score, \"Marks\")"
   ]
  },
  {
   "cell_type": "code",
   "execution_count": 30,
   "id": "3ee5d615",
   "metadata": {},
   "outputs": [
    {
     "name": "stdout",
     "output_type": "stream",
     "text": [
      "kiran Scored 198 Marks\n"
     ]
    }
   ],
   "source": [
    "student_Score(\"kiran\", 198)"
   ]
  },
  {
   "cell_type": "markdown",
   "id": "1bb793bd",
   "metadata": {},
   "source": [
    "# DateTime"
   ]
  },
  {
   "cell_type": "code",
   "execution_count": 31,
   "id": "d560df56",
   "metadata": {},
   "outputs": [
    {
     "name": "stdout",
     "output_type": "stream",
     "text": [
      "2022-08-29 11:30:26.487055\n"
     ]
    }
   ],
   "source": [
    "import datetime\n",
    "datetime_obj= datetime.datetime.now()\n",
    "print(datetime_obj)"
   ]
  },
  {
   "cell_type": "code",
   "execution_count": 39,
   "id": "786318e1",
   "metadata": {},
   "outputs": [
    {
     "name": "stdout",
     "output_type": "stream",
     "text": [
      "2022-08-29\n"
     ]
    }
   ],
   "source": [
    "date_obj=datetime.date.today() #Current date\n",
    "print(date_obj) "
   ]
  },
  {
   "cell_type": "code",
   "execution_count": 40,
   "id": "9b9a8a8f",
   "metadata": {},
   "outputs": [
    {
     "name": "stdout",
     "output_type": "stream",
     "text": [
      "2020-03-27\n"
     ]
    }
   ],
   "source": [
    "d=datetime.date(2020, 3, 27)\n",
    "print(d)"
   ]
  },
  {
   "cell_type": "markdown",
   "id": "7410eadd",
   "metadata": {},
   "source": [
    "# Get Date from a timestamp"
   ]
  },
  {
   "cell_type": "code",
   "execution_count": 43,
   "id": "8ec1c210",
   "metadata": {},
   "outputs": [
    {
     "name": "stdout",
     "output_type": "stream",
     "text": [
      "Date: 2012-01-11\n"
     ]
    }
   ],
   "source": [
    "from datetime import date\n",
    "timestamp=date.fromtimestamp(1326244364)\n",
    "print(\"Date:\", timestamp)"
   ]
  },
  {
   "cell_type": "markdown",
   "id": "e64e1c3a",
   "metadata": {},
   "source": [
    "# Get today's year, month, day"
   ]
  },
  {
   "cell_type": "code",
   "execution_count": 44,
   "id": "473ea596",
   "metadata": {},
   "outputs": [
    {
     "name": "stdout",
     "output_type": "stream",
     "text": [
      "2022\n",
      "8\n",
      "29\n"
     ]
    }
   ],
   "source": [
    "today=date.today()\n",
    "print(today.year)\n",
    "print(today.month)\n",
    "print(today.day)"
   ]
  },
  {
   "cell_type": "markdown",
   "id": "b1f89819",
   "metadata": {},
   "source": [
    "# Time_object"
   ]
  },
  {
   "cell_type": "code",
   "execution_count": 49,
   "id": "6802242a",
   "metadata": {},
   "outputs": [
    {
     "name": "stdout",
     "output_type": "stream",
     "text": [
      "00:00:00\n",
      "11:34:56\n",
      "11:34:56.234566\n"
     ]
    }
   ],
   "source": [
    "from datetime import time\n",
    "a=time()  # Time 00,00,00\n",
    "print(a)\n",
    "b=time(11,34,56)\n",
    "print(b)\n",
    "c=time(11,34,56,234566)\n",
    "print(c)"
   ]
  },
  {
   "cell_type": "markdown",
   "id": "7d363bc9",
   "metadata": {},
   "source": [
    "# Datetime.Timedelta : represents diff betwn two dates or times"
   ]
  },
  {
   "cell_type": "code",
   "execution_count": 54,
   "id": "a1f9d825",
   "metadata": {},
   "outputs": [
    {
     "name": "stdout",
     "output_type": "stream",
     "text": [
      "9740 days, 0:00:00\n"
     ]
    }
   ],
   "source": [
    "from datetime import datetime, date\n",
    "t1 = date(year= 2022, month = 8, day= 29)\n",
    "t2 = date(year= 1995, month = 12, day= 29)\n",
    "t3 = t1-t2\n",
    "print(t3)"
   ]
  },
  {
   "cell_type": "code",
   "execution_count": 55,
   "id": "9d2b417a",
   "metadata": {},
   "outputs": [
    {
     "name": "stdout",
     "output_type": "stream",
     "text": [
      "Type of t3: <class 'datetime.timedelta'>\n"
     ]
    }
   ],
   "source": [
    "print(\"Type of t3:\", type(t3))"
   ]
  },
  {
   "cell_type": "code",
   "execution_count": 57,
   "id": "f613549f",
   "metadata": {},
   "outputs": [
    {
     "data": {
      "text/plain": [
       "9740"
      ]
     },
     "execution_count": 57,
     "metadata": {},
     "output_type": "execute_result"
    }
   ],
   "source": [
    "t3.days  #To get days from timedelta"
   ]
  },
  {
   "cell_type": "code",
   "execution_count": 61,
   "id": "4289107a",
   "metadata": {},
   "outputs": [
    {
     "name": "stdout",
     "output_type": "stream",
     "text": [
      "t6: 332 days, 22:45:37\n"
     ]
    }
   ],
   "source": [
    "t4=datetime(year=2018,month=7,day=12,hour=7,minute=9,second=33)\n",
    "t5=datetime(year=2019,month=6,day=10,hour=5,minute=55,second=10)\n",
    "t6 = t5 - t4\n",
    "print(\"t6:\", t6)"
   ]
  },
  {
   "cell_type": "code",
   "execution_count": 62,
   "id": "3bab68fe",
   "metadata": {},
   "outputs": [
    {
     "name": "stdout",
     "output_type": "stream",
     "text": [
      "type of t6: <class 'datetime.timedelta'>\n"
     ]
    }
   ],
   "source": [
    "print(\"type of t6:\", type(t6))"
   ]
  },
  {
   "cell_type": "code",
   "execution_count": 63,
   "id": "f35e28dc",
   "metadata": {},
   "outputs": [
    {
     "data": {
      "text/plain": [
       "28766737.0"
      ]
     },
     "execution_count": 63,
     "metadata": {},
     "output_type": "execute_result"
    }
   ],
   "source": [
    "t6.total_seconds() #Total number of seconds"
   ]
  },
  {
   "cell_type": "markdown",
   "id": "6b83e0e2",
   "metadata": {},
   "source": [
    "# Python format datetime\n",
    "The way date and time is represented may be different places, organizations etc. It's more common to use mm/dd/yyyy in the US, whereas dd/mm/yyyy is more common in the UK and dd.mm.yyyy in Germany\n",
    "Python has strftime() and strptime() methods to handle this.\n",
    "# strftime()\n",
    "The program below converts a datetime object containing current date and time to different string format."
   ]
  },
  {
   "cell_type": "code",
   "execution_count": 65,
   "id": "7e049ed3",
   "metadata": {},
   "outputs": [
    {
     "name": "stdout",
     "output_type": "stream",
     "text": [
      "2022-08-29 22:29:17.918691\n"
     ]
    }
   ],
   "source": [
    "from datetime import datetime\n",
    "now=datetime.now()  # current date and time\n",
    "print(now)"
   ]
  },
  {
   "cell_type": "code",
   "execution_count": 66,
   "id": "1bd94630",
   "metadata": {},
   "outputs": [
    {
     "data": {
      "text/plain": [
       "'2022'"
      ]
     },
     "execution_count": 66,
     "metadata": {},
     "output_type": "execute_result"
    }
   ],
   "source": [
    "#Extracting year from date using strftime returns string as output\n",
    "datetime.strftime(now,'%Y')"
   ]
  },
  {
   "cell_type": "code",
   "execution_count": 67,
   "id": "0a0e3099",
   "metadata": {},
   "outputs": [
    {
     "name": "stdout",
     "output_type": "stream",
     "text": [
      "month: 08\n",
      "day: 29\n"
     ]
    }
   ],
   "source": [
    "month= now.strftime(\"%m\")\n",
    "print(\"month:\", month)\n",
    "day= now.strftime(\"%d\")\n",
    "print(\"day:\", day)"
   ]
  },
  {
   "cell_type": "code",
   "execution_count": 68,
   "id": "ae199f14",
   "metadata": {},
   "outputs": [
    {
     "name": "stdout",
     "output_type": "stream",
     "text": [
      "time: 22:29:17\n"
     ]
    }
   ],
   "source": [
    "time=now.strftime(\"%H:%M:%S\")\n",
    "print(\"time:\", time)"
   ]
  },
  {
   "cell_type": "code",
   "execution_count": 70,
   "id": "8b50185c",
   "metadata": {},
   "outputs": [
    {
     "data": {
      "text/plain": [
       "'08/29/2022 22:29:17'"
      ]
     },
     "execution_count": 70,
     "metadata": {},
     "output_type": "execute_result"
    }
   ],
   "source": [
    "#Now we will convert this into us format\n",
    "datetime.strftime(now,\"%m/%d/%Y %H:%M:%S\")"
   ]
  },
  {
   "cell_type": "code",
   "execution_count": 72,
   "id": "ec3927aa",
   "metadata": {},
   "outputs": [
    {
     "name": "stdout",
     "output_type": "stream",
     "text": [
      "Date time object 2018-06-12 15:25:22\n",
      "Output 2 : 06/12/2018, 15:25:22\n",
      "Output 3 : 12 Jun, 2018\n",
      "Outpu 4: 12 June, 2018\n",
      "Outpu 5 : 03PM\n"
     ]
    }
   ],
   "source": [
    "#Extracting from timestamp\n",
    "timestamp = 1528797322\n",
    "date_time= datetime.fromtimestamp(timestamp)\n",
    "print(\"Date time object\", date_time)\n",
    "d=date_time.strftime(\"%m/%d/%Y, %H:%M:%S\")\n",
    "print(\"Output 2 :\", d)\n",
    "d=date_time.strftime(\"%d %b, %Y\")\n",
    "print(\"Output 3 :\", d)\n",
    "d=date_time.strftime(\"%d %B, %Y\")\n",
    "print(\"Outpu 4:\", d)\n",
    "d=date_time.strftime(\"%I%p\")\n",
    "print(\"Outpu 5 :\", d)"
   ]
  },
  {
   "cell_type": "markdown",
   "id": "60cecd7a",
   "metadata": {},
   "source": [
    "# strptime\n",
    "The strptime() method creates a datetime object from a given string."
   ]
  },
  {
   "cell_type": "code",
   "execution_count": 81,
   "id": "5e9375cd",
   "metadata": {},
   "outputs": [
    {
     "name": "stdout",
     "output_type": "stream",
     "text": [
      "date_string = 21 June, 2018\n",
      "type of date_string = <class 'str'>\n",
      "date_object = 2018-06-21 00:00:00\n",
      "type of date_object = <class 'datetime.datetime'>\n"
     ]
    }
   ],
   "source": [
    "date_string = \"21 June, 2018\"\n",
    "print(\"date_string =\", date_string)\n",
    "print(\"type of date_string =\", type(date_string))\n",
    "date_object = datetime.strptime(date_string, \"%d %B, %Y\")\n",
    "print(\"date_object =\", date_object)\n",
    "print(\"type of date_object =\", type(date_object))"
   ]
  },
  {
   "cell_type": "code",
   "execution_count": 82,
   "id": "3758a8f9",
   "metadata": {},
   "outputs": [
    {
     "name": "stdout",
     "output_type": "stream",
     "text": [
      "dt_object = 2018-11-12 09:15:32\n",
      "dt_object = 2018-12-11 09:15:32\n"
     ]
    }
   ],
   "source": [
    "dt_string = \"12/11/2018  09:15:32\"\n",
    "# Considering date is in dd/mm/yyyy format\n",
    "dt_object1 = datetime.strptime(dt_string, \"%d/%m/%Y %H:%M:%S\")\n",
    "print(\"dt_object =\", dt_object1)\n",
    "# Considering date is in mm/dd/yyyy fromat\n",
    "dt_object2 = datetime.strptime(dt_string, \"%m/%d/%Y %H:%M:%S\")\n",
    "print(\"dt_object =\", dt_object2)"
   ]
  },
  {
   "cell_type": "code",
   "execution_count": 83,
   "id": "422cedb6",
   "metadata": {},
   "outputs": [
    {
     "ename": "ValueError",
     "evalue": "time data '21 June, 2018' does not match format '%d/%m/%Y'",
     "output_type": "error",
     "traceback": [
      "\u001b[1;31m---------------------------------------------------------------------------\u001b[0m",
      "\u001b[1;31mValueError\u001b[0m                                Traceback (most recent call last)",
      "Input \u001b[1;32mIn [83]\u001b[0m, in \u001b[0;36m<cell line: 1>\u001b[1;34m()\u001b[0m\n\u001b[1;32m----> 1\u001b[0m date_object \u001b[38;5;241m=\u001b[39m \u001b[43mdatetime\u001b[49m\u001b[38;5;241;43m.\u001b[39;49m\u001b[43mstrptime\u001b[49m\u001b[43m(\u001b[49m\u001b[43mdate_string\u001b[49m\u001b[43m,\u001b[49m\u001b[43m \u001b[49m\u001b[38;5;124;43m'\u001b[39;49m\u001b[38;5;132;43;01m%d\u001b[39;49;00m\u001b[38;5;124;43m/\u001b[39;49m\u001b[38;5;124;43m%\u001b[39;49m\u001b[38;5;124;43mm/\u001b[39;49m\u001b[38;5;124;43m%\u001b[39;49m\u001b[38;5;124;43mY\u001b[39;49m\u001b[38;5;124;43m'\u001b[39;49m\u001b[43m)\u001b[49m\n\u001b[0;32m      2\u001b[0m \u001b[38;5;28mprint\u001b[39m(\u001b[38;5;124m\"\u001b[39m\u001b[38;5;124mdate_object =\u001b[39m\u001b[38;5;124m\"\u001b[39m, date_object)\n",
      "File \u001b[1;32m~\\anaconda3\\lib\\_strptime.py:568\u001b[0m, in \u001b[0;36m_strptime_datetime\u001b[1;34m(cls, data_string, format)\u001b[0m\n\u001b[0;32m    565\u001b[0m \u001b[38;5;28;01mdef\u001b[39;00m \u001b[38;5;21m_strptime_datetime\u001b[39m(\u001b[38;5;28mcls\u001b[39m, data_string, \u001b[38;5;28mformat\u001b[39m\u001b[38;5;241m=\u001b[39m\u001b[38;5;124m\"\u001b[39m\u001b[38;5;132;01m%a\u001b[39;00m\u001b[38;5;124m \u001b[39m\u001b[38;5;124m%\u001b[39m\u001b[38;5;124mb \u001b[39m\u001b[38;5;132;01m%d\u001b[39;00m\u001b[38;5;124m \u001b[39m\u001b[38;5;124m%\u001b[39m\u001b[38;5;124mH:\u001b[39m\u001b[38;5;124m%\u001b[39m\u001b[38;5;124mM:\u001b[39m\u001b[38;5;124m%\u001b[39m\u001b[38;5;124mS \u001b[39m\u001b[38;5;124m%\u001b[39m\u001b[38;5;124mY\u001b[39m\u001b[38;5;124m\"\u001b[39m):\n\u001b[0;32m    566\u001b[0m     \u001b[38;5;124;03m\"\"\"Return a class cls instance based on the input string and the\u001b[39;00m\n\u001b[0;32m    567\u001b[0m \u001b[38;5;124;03m    format string.\"\"\"\u001b[39;00m\n\u001b[1;32m--> 568\u001b[0m     tt, fraction, gmtoff_fraction \u001b[38;5;241m=\u001b[39m \u001b[43m_strptime\u001b[49m\u001b[43m(\u001b[49m\u001b[43mdata_string\u001b[49m\u001b[43m,\u001b[49m\u001b[43m \u001b[49m\u001b[38;5;28;43mformat\u001b[39;49m\u001b[43m)\u001b[49m\n\u001b[0;32m    569\u001b[0m     tzname, gmtoff \u001b[38;5;241m=\u001b[39m tt[\u001b[38;5;241m-\u001b[39m\u001b[38;5;241m2\u001b[39m:]\n\u001b[0;32m    570\u001b[0m     args \u001b[38;5;241m=\u001b[39m tt[:\u001b[38;5;241m6\u001b[39m] \u001b[38;5;241m+\u001b[39m (fraction,)\n",
      "File \u001b[1;32m~\\anaconda3\\lib\\_strptime.py:349\u001b[0m, in \u001b[0;36m_strptime\u001b[1;34m(data_string, format)\u001b[0m\n\u001b[0;32m    347\u001b[0m found \u001b[38;5;241m=\u001b[39m format_regex\u001b[38;5;241m.\u001b[39mmatch(data_string)\n\u001b[0;32m    348\u001b[0m \u001b[38;5;28;01mif\u001b[39;00m \u001b[38;5;129;01mnot\u001b[39;00m found:\n\u001b[1;32m--> 349\u001b[0m     \u001b[38;5;28;01mraise\u001b[39;00m \u001b[38;5;167;01mValueError\u001b[39;00m(\u001b[38;5;124m\"\u001b[39m\u001b[38;5;124mtime data \u001b[39m\u001b[38;5;132;01m%r\u001b[39;00m\u001b[38;5;124m does not match format \u001b[39m\u001b[38;5;132;01m%r\u001b[39;00m\u001b[38;5;124m\"\u001b[39m \u001b[38;5;241m%\u001b[39m\n\u001b[0;32m    350\u001b[0m                      (data_string, \u001b[38;5;28mformat\u001b[39m))\n\u001b[0;32m    351\u001b[0m \u001b[38;5;28;01mif\u001b[39;00m \u001b[38;5;28mlen\u001b[39m(data_string) \u001b[38;5;241m!=\u001b[39m found\u001b[38;5;241m.\u001b[39mend():\n\u001b[0;32m    352\u001b[0m     \u001b[38;5;28;01mraise\u001b[39;00m \u001b[38;5;167;01mValueError\u001b[39;00m(\u001b[38;5;124m\"\u001b[39m\u001b[38;5;124munconverted data remains: \u001b[39m\u001b[38;5;132;01m%s\u001b[39;00m\u001b[38;5;124m\"\u001b[39m \u001b[38;5;241m%\u001b[39m\n\u001b[0;32m    353\u001b[0m                       data_string[found\u001b[38;5;241m.\u001b[39mend():])\n",
      "\u001b[1;31mValueError\u001b[0m: time data '21 June, 2018' does not match format '%d/%m/%Y'"
     ]
    }
   ],
   "source": [
    "date_object = datetime.strptime(date_string, '%d/%m/%Y')\n",
    "print(\"date_object =\", date_object)"
   ]
  },
  {
   "cell_type": "markdown",
   "id": "2b9bf6dc",
   "metadata": {},
   "source": [
    "# Write & Read the file"
   ]
  },
  {
   "cell_type": "code",
   "execution_count": 95,
   "id": "21c25985",
   "metadata": {},
   "outputs": [],
   "source": [
    "fh = open('abc1234.txt','w')\n",
    "fh.writelines(\"This is line no.1\")\n",
    "fh.writelines(\"                 \")\n",
    "fh.writelines(\"This is line no. 2\")\n",
    "fh.close()"
   ]
  },
  {
   "cell_type": "code",
   "execution_count": 96,
   "id": "f8de754b",
   "metadata": {},
   "outputs": [
    {
     "name": "stdout",
     "output_type": "stream",
     "text": [
      "This is line no.1                 This is line no. 2\n"
     ]
    }
   ],
   "source": [
    "fh = open('abc1234.txt','r')\n",
    "print(fh.read())\n",
    "fh.close()"
   ]
  },
  {
   "cell_type": "code",
   "execution_count": 97,
   "id": "f51bdd75",
   "metadata": {},
   "outputs": [
    {
     "data": {
      "text/plain": [
       "'w = create the file & write data\\nr = read the content from the file\\nw = create the file & write & read\\nr+ = read and write\\na = append'"
      ]
     },
     "execution_count": 97,
     "metadata": {},
     "output_type": "execute_result"
    }
   ],
   "source": [
    "'''w = create the file & write data\n",
    "r = read the content from the file\n",
    "w = create the file & write & read\n",
    "r+ = read and write\n",
    "a = append'''"
   ]
  },
  {
   "cell_type": "code",
   "execution_count": 1,
   "id": "9fa7a19e",
   "metadata": {},
   "outputs": [
    {
     "data": {
      "text/plain": [
       "6"
      ]
     },
     "execution_count": 1,
     "metadata": {},
     "output_type": "execute_result"
    }
   ],
   "source": []
  },
  {
   "cell_type": "code",
   "execution_count": null,
   "id": "5085f711",
   "metadata": {},
   "outputs": [],
   "source": []
  }
 ],
 "metadata": {
  "kernelspec": {
   "display_name": "Python 3 (ipykernel)",
   "language": "python",
   "name": "python3"
  },
  "language_info": {
   "codemirror_mode": {
    "name": "ipython",
    "version": 3
   },
   "file_extension": ".py",
   "mimetype": "text/x-python",
   "name": "python",
   "nbconvert_exporter": "python",
   "pygments_lexer": "ipython3",
   "version": "3.9.12"
  }
 },
 "nbformat": 4,
 "nbformat_minor": 5
}
