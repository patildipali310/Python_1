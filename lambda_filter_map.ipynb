{
 "cells": [
  {
   "cell_type": "code",
   "execution_count": 29,
   "id": "53abea6e",
   "metadata": {},
   "outputs": [
    {
     "name": "stdout",
     "output_type": "stream",
     "text": [
      "['False', 'None', 'True', '__peg_parser__', 'and', 'as', 'assert', 'async', 'await', 'break', 'class', 'continue', 'def', 'del', 'elif', 'else', 'except', 'finally', 'for', 'from', 'global', 'if', 'import', 'in', 'is', 'lambda', 'nonlocal', 'not', 'or', 'pass', 'raise', 'return', 'try', 'while', 'with', 'yield']\n"
     ]
    }
   ],
   "source": [
    "import keyword\n",
    "print(keyword.kwlist)"
   ]
  },
  {
   "cell_type": "markdown",
   "id": "201ea9a3",
   "metadata": {},
   "source": [
    "# What are lambda function in pythona?\n",
    "In python, anonymous function is a function that is defined without a name.\n",
    "While normal functions are defined using the def keyword, in Python anonymous functions are defined using the lambda keyword.\n",
    "Hence, anonymous functions are also called lambda functions.\n",
    "How to use: \n",
    "# Syntax is: lambda arguements: expression"
   ]
  },
  {
   "cell_type": "code",
   "execution_count": 4,
   "id": "de922fcb",
   "metadata": {},
   "outputs": [
    {
     "name": "stdout",
     "output_type": "stream",
     "text": [
      "10\n"
     ]
    }
   ],
   "source": [
    "double = lambda x: x * 2\n",
    "print(double(5))"
   ]
  },
  {
   "cell_type": "code",
   "execution_count": 9,
   "id": "2c726075",
   "metadata": {},
   "outputs": [
    {
     "name": "stdout",
     "output_type": "stream",
     "text": [
      "8\n"
     ]
    }
   ],
   "source": [
    "sq = lambda x,y : x**2 +y ** 2\n",
    "print(sq(2,2))"
   ]
  },
  {
   "cell_type": "code",
   "execution_count": 12,
   "id": "1f9be8ed",
   "metadata": {},
   "outputs": [
    {
     "name": "stdout",
     "output_type": "stream",
     "text": [
      "12\n"
     ]
    }
   ],
   "source": [
    "def double(x):\n",
    "    return x * 2\n",
    "double(5)\n",
    "#Or \n",
    "def double(x):\n",
    "    return x * 2\n",
    "print(double(6))"
   ]
  },
  {
   "cell_type": "markdown",
   "id": "6f6c59b0",
   "metadata": {},
   "source": [
    "We use lambda function when we require a nameless function for a short period of time.\n",
    "Lambda functions are used along with built-in-function like filter(), map() etc.\n",
    "# Example use with filter()\n",
    "The filter function in python takes in a function and a list of arguements."
   ]
  },
  {
   "cell_type": "code",
   "execution_count": 15,
   "id": "b12c8b2d",
   "metadata": {},
   "outputs": [
    {
     "name": "stdout",
     "output_type": "stream",
     "text": [
      "[4, 6, 8, 12]\n"
     ]
    }
   ],
   "source": [
    "# proram to filter out only the even items from a list.\n",
    "my_list = [1,5,4,6,8,11,3,12]\n",
    "new_list = list(filter(lambda x: (x%2==0), my_list))\n",
    "print(new_list)"
   ]
  },
  {
   "cell_type": "markdown",
   "id": "fb32cb90",
   "metadata": {},
   "source": [
    "# Example use with map()\n",
    "The map() function in python takes in a function and a list."
   ]
  },
  {
   "cell_type": "code",
   "execution_count": 31,
   "id": "33dc5f17",
   "metadata": {},
   "outputs": [
    {
     "name": "stdout",
     "output_type": "stream",
     "text": [
      "[2, 10, 8, 12, 16, 22, 6, 24]\n"
     ]
    }
   ],
   "source": [
    "# Program to double each item in a list using map()\n",
    "my_list = [1,5,4,6,8,11,3,12]\n",
    "new_list = list(map(lambda x: x * 2, my_list))\n",
    "print(new_list)"
   ]
  },
  {
   "cell_type": "code",
   "execution_count": 38,
   "id": "ac404f1f",
   "metadata": {},
   "outputs": [
    {
     "name": "stdout",
     "output_type": "stream",
     "text": [
      "['225', '8', '33', '22', '44', '21', '44']\n",
      "['Janice', 'Gabriel']\n",
      "{'Janice': '225', 'Gabriel': '8'}\n"
     ]
    }
   ],
   "source": [
    "import re\n",
    "NameAge = '''\n",
    "Janice is 2258 and theon is 33 amit 22 Gabriel is 44 and joey is 21 sunder 44'''\n",
    "ages = re.findall(r'\\d{1,3}', NameAge)\n",
    "names = re.findall(r'[A-Z][a-z]*', NameAge)\n",
    "print(ages)\n",
    "print(names)\n",
    "ageDict = {}\n",
    "\n",
    "x = 0\n",
    "for eachname in names:\n",
    "    ageDict[eachname] = ages[x]\n",
    "    x+=1\n",
    "print(ageDict)"
   ]
  },
  {
   "cell_type": "code",
   "execution_count": 41,
   "id": "68b3e625",
   "metadata": {},
   "outputs": [
    {
     "name": "stdout",
     "output_type": "stream",
     "text": [
      "Email Matches 1\n"
     ]
    }
   ],
   "source": [
    "import re\n",
    "email= \"skaol.com md@com @sas.com ds@.com 125@abd.ty.com4\"\n",
    "#email = \"125@abd.ty.com\"\n",
    "print(\"Email Matches\", len(re.findall(\"[\\w._%+-]{1,20}@[\\w.-]{2,20}.[A-Za-z]{2,3}\", email)))\n",
    "#print(\"Email Matches\", len(re.findall(\"[\\w]@[\\w.-]{2,20}.{A-Za-z}{2,3}\", email)))\n",
    "#@[\\w.-]{2,20}.[A-Za-z]{2,3}\", email)))"
   ]
  },
  {
   "cell_type": "code",
   "execution_count": 46,
   "id": "6180af89",
   "metadata": {},
   "outputs": [
    {
     "name": "stdout",
     "output_type": "stream",
     "text": [
      "It's a phone number\n"
     ]
    }
   ],
   "source": [
    "import re\n",
    "# \\w [a-zA-Z0-9]\n",
    "# \\w[^a-zA-Z0-9]\n",
    "phone = \"415-775-5237\"\n",
    "# if re.search(\" \\w{3}-\\w{3}-\\w{4}\", phone):\n",
    "if re.search(\"\\d{3}-\\d{3}-\\d{4}\", phone):\n",
    "            print(\"It's a phone number\")\n",
    "else:\n",
    "    print(\"Its not a valid phone number\")\n"
   ]
  },
  {
   "cell_type": "code",
   "execution_count": 52,
   "id": "75985e93",
   "metadata": {},
   "outputs": [
    {
     "name": "stdout",
     "output_type": "stream",
     "text": [
      "563-7401\n",
      "587-2335\n",
      "713-8616\n",
      "151-6230\n",
      "709-6392\n",
      "393-5734\n",
      "960-3807\n",
      "244-6306\n",
      "278-5929\n",
      "579-1879\n",
      "737-2852\n",
      "663-4518\n",
      "265-2215\n",
      "119-8364\n",
      "353-2641\n",
      "675-4007\n",
      "353-1107\n",
      "873-7090\n",
      "259-2375\n",
      "450-4729\n",
      "391-4650\n",
      "104-5475\n",
      "142-9434\n",
      "745-4496\n",
      "677-3419\n",
      "679-2470\n",
      "430-0989\n",
      "936-4694\n",
      "834-8285\n",
      "661-1446\n",
      "668-8240\n",
      "768-9247\n",
      "239-9057\n",
      "109-0213\n",
      "196-3274\n",
      "442-2428\n",
      "676-5117\n",
      "546-5032\n",
      "805-4108\n",
      "912-6931\n",
      "554-0563\n",
      "616-5411\n",
      "347-0086\n",
      "506-6314\n",
      "288-2332\n",
      "987-4962\n",
      "582-9707\n",
      "558-3965\n",
      "467-3131\n",
      "914-2510\n",
      "106-8550\n",
      "567-3573\n",
      "337-2849\n",
      "604-9386\n",
      "156-5026\n",
      "876-0865\n",
      "726-8645\n",
      "710-9826\n",
      "594-1662\n",
      "600-8503\n",
      "900-7508\n",
      "977-5775\n",
      "239-8275\n",
      "342-0650\n",
      "993-5187\n",
      "399-5084\n",
      "755-9948\n",
      "551-3389\n",
      "730-6868\n",
      "757-4047\n",
      "882-1496\n",
      "360-7590\n",
      "222-1592\n",
      "303-1164\n",
      "982-6130\n",
      "217-1470\n",
      "514-1269\n",
      "409-5446\n",
      "292-5324\n",
      "709-3295\n",
      "356-9268\n",
      "522-8584\n",
      "483-0352\n",
      "204-1434\n",
      "886-4174\n",
      "379-7573\n",
      "632-8597\n",
      "983-3476\n",
      "392-8802\n",
      "669-3923\n",
      "987-9449\n",
      "517-6053\n",
      "940-2753\n",
      "930-5255\n",
      "721-5145\n",
      "334-2174\n",
      "994-5270\n",
      "908-6970\n",
      "333-6244\n",
      "840-6139\n"
     ]
    }
   ],
   "source": [
    "from re import findall\n",
    "url = \"http://www.summet.com/dmsi/html/codesamples/addresses.html\"\n",
    "reponse = urllib.request.urlopen(url)\n",
    "html =reponse.read()\n",
    "htmlstr = html.decode() # used remove html tags\n",
    "pdata = findall(\"\\(\\d{3}\\) (\\d{3}-\\d{4})\", htmlstr)\n",
    "for item in pdata:\n",
    "    print(item)"
   ]
  },
  {
   "cell_type": "code",
   "execution_count": null,
   "id": "fdb7b48d",
   "metadata": {},
   "outputs": [],
   "source": []
  }
 ],
 "metadata": {
  "kernelspec": {
   "display_name": "Python 3 (ipykernel)",
   "language": "python",
   "name": "python3"
  },
  "language_info": {
   "codemirror_mode": {
    "name": "ipython",
    "version": 3
   },
   "file_extension": ".py",
   "mimetype": "text/x-python",
   "name": "python",
   "nbconvert_exporter": "python",
   "pygments_lexer": "ipython3",
   "version": "3.9.12"
  }
 },
 "nbformat": 4,
 "nbformat_minor": 5
}
